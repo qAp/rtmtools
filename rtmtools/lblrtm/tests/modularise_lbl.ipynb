{
 "metadata": {
  "name": "",
  "signature": "sha256:696952df27cbed041f4eceed5bc7c19a8c9bdf4d895db094df436bd829e37007"
 },
 "nbformat": 3,
 "nbformat_minor": 0,
 "worksheets": [
  {
   "cells": [
    {
     "cell_type": "markdown",
     "metadata": {},
     "source": [
      "# Speeding up lbl.f. Testing with 500: 0.5 : 800 cm-1 runs"
     ]
    },
    {
     "cell_type": "code",
     "collapsed": false,
     "input": [
      "# from commit 7bc64d9\n",
      "V1, V2 = 500, 800\n",
      "\n",
      "outrad = aerutils.sum_OUTPUT_RADSUM_over_wave_numbers(\n",
      "readfrom='/nuwa_cluster/home/jackyu/line_by_line/lbl/runs/lbl_H2008_CO2_cut25/OUTPUT_RADSUM_7bc64d9', \n",
      "V1 = V1, V2 = V2)\n",
      "pressure_s = .5 * (outrad.values[1:, 0] + outrad.values[:-1, 0])\n",
      "cor_s = outrad.values[1:, -1]\n",
      "\n",
      "outrad = aerutils.sum_OUTPUT_RADSUM_over_wave_numbers(\n",
      "readfrom='/nuwa_cluster/home/jackyu/line_by_line/lbl/runs/lbl_H2008_CO2_cut25/OUTPUT_RADSUM_lineinfo',\n",
      "V1 = V1, V2 = V2)\n",
      "pressure_t = .5 * (outrad.values[1:, 0] + outrad.values[:-1, 0])\n",
      "cor_t = outrad.values[1:, -1]"
     ],
     "language": "python",
     "metadata": {},
     "outputs": []
    },
    {
     "cell_type": "code",
     "collapsed": false,
     "input": [
      "fig = plt.figure(figsize=(10, 8))\n",
      "ax = fig.add_subplot(111)\n",
      "ax.semilogy(cor_s, pressure_s,\n",
      "            cor_t, pressure_t, '+')\n",
      "ax.set_xlim([-.5, 16])\n",
      "ax.set_xlabel('cooling rate [deg/day]')\n",
      "ax.set_ylabel('pressure [mbar]')\n",
      "ax.set_title('Cooling rate comparison: CO2 $500 : .5 : 800 cm^{-1}$')\n",
      "plt.grid(b = True)\n",
      "plt.legend(['lines direct from file', 'lines from data struc'], loc = 'best')\n",
      "plt.gca().invert_yaxis()"
     ],
     "language": "python",
     "metadata": {},
     "outputs": []
    },
    {
     "cell_type": "markdown",
     "metadata": {},
     "source": [
      "### Execution time comparison: file-read v.s no file-read"
     ]
    },
    {
     "cell_type": "code",
     "collapsed": false,
     "input": [
      "#Compare execution time between file-read and no file-read\n",
      "lbl_CO2_dir = '/nuwa_cluster/home/jackyu/line_by_line/lbl/runs/lbl_H2008_CO2_cut25'\n",
      "os.chdir(lbl_CO2_dir)\n",
      "\n",
      "# With file-read: 0: 0.5: 3000 cm-1\n",
      "!time lbl_H2008_CO2_cut25"
     ],
     "language": "python",
     "metadata": {},
     "outputs": []
    },
    {
     "cell_type": "code",
     "collapsed": false,
     "input": [
      "# With no file-read: 0: 0.5: 3000 cm-1\n",
      "!time lbl_H2008_CO2_cut25"
     ],
     "language": "python",
     "metadata": {},
     "outputs": []
    },
    {
     "cell_type": "code",
     "collapsed": false,
     "input": [
      "# With no file-read. 500: 0.5: 800 cm-1\n",
      "os.chdir(lbl_CO2_dir)\n",
      "elapsed_times = []\n",
      "for _ in range(10):\n",
      "    start_time = time.time()\n",
      "    os.system('lbl_H2008_CO2_cut25')\n",
      "    end_time = time.time()\n",
      "    elapsed_times.append(end_time - start_time)"
     ],
     "language": "python",
     "metadata": {},
     "outputs": []
    },
    {
     "cell_type": "code",
     "collapsed": false,
     "input": [
      "print('Number of runs = ', 10)\n",
      "print('Average running time = ', np.average(np.asarray(elapsed_times)), ' s')"
     ],
     "language": "python",
     "metadata": {},
     "outputs": []
    },
    {
     "cell_type": "code",
     "collapsed": false,
     "input": [
      "# With file-read. 500: 0.5: 800 cm-1\n",
      "os.chdir(lbl_CO2_dir)\n",
      "!git branch\n",
      "!git checkout rerun_7bc64d9\n",
      "!ifort lbl_H2008_CO2_cut25.f -o lbl_H2008_CO2_cut25\n",
      "elapsed_times = []\n",
      "for _ in range(10):\n",
      "    start_time = time.time()\n",
      "    os.system('lbl_H2008_CO2_cut25')\n",
      "    end_time = time.time()\n",
      "    elapsed_times.append(end_time - start_time)"
     ],
     "language": "python",
     "metadata": {},
     "outputs": []
    },
    {
     "cell_type": "code",
     "collapsed": false,
     "input": [
      "print('Number of runs = ', 10)\n",
      "print('Average running time = ', np.average(np.asarray(elapsed_times)), ' s')"
     ],
     "language": "python",
     "metadata": {},
     "outputs": []
    },
    {
     "cell_type": "markdown",
     "metadata": {},
     "source": [
      "# Testing: modularising the lbl code"
     ]
    },
    {
     "cell_type": "code",
     "collapsed": false,
     "input": [
      "outrad = aerutils.sum_OUTPUT_RADSUM_over_wave_numbers(\n",
      "readfrom = '/nuwa_cluster/home/jackyu/line_by_line/lbl/runs/lbl_H2008_CO2_cut25/OUTPUT_RADSUM_lineinfo',\n",
      "    V1 = 500, V2 = 800)\n",
      "pressure_before = .5 * (outrad.values[1:, 0] + outrad.values[:-1, 0])\n",
      "cor_before = outrad.values[1:, -1]\n",
      "\n",
      "outrad = aerutils.sum_OUTPUT_RADSUM_over_wave_numbers(\n",
      "readfrom = '/nuwa_cluster/home/jackyu/line_by_line/lbl/runs/lbl_H2008_CO2_cut25_test_module/OUTPUT_RADSUM',\n",
      "    V1 = 500, V2 = 800)\n",
      "pressure_after = .5 * (outrad.values[1:, 0] + outrad.values[:-1, 0])\n",
      "cor_after = outrad.values[1:, -1]"
     ],
     "language": "python",
     "metadata": {},
     "outputs": []
    },
    {
     "cell_type": "code",
     "collapsed": false,
     "input": [
      "fig = plt.figure(figsize = (10, 8))\n",
      "ax = fig.add_subplot(111)\n",
      "ax.semilogy(cor_before, pressure_before,\n",
      "            cor_after, pressure_after, 'x')\n",
      "ax.set_xlim([-.5, 16])\n",
      "ax.set_xlabel('cooling rate [deg/day]')\n",
      "ax.set_ylabel('pressure [mb]')\n",
      "ax.set_title('Cooling rate before and after lbl code modularised')\n",
      "plt.legend(['before modularisation', 'after modularisation'])\n",
      "plt.gca().invert_yaxis()\n",
      "plt.grid(b = True)"
     ],
     "language": "python",
     "metadata": {},
     "outputs": []
    },
    {
     "cell_type": "code",
     "collapsed": false,
     "input": [],
     "language": "python",
     "metadata": {},
     "outputs": []
    }
   ],
   "metadata": {}
  }
 ]
}
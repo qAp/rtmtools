{
 "metadata": {
  "name": "",
  "signature": "sha256:fdf536e528b665bed2e45a1394d017a5d2073827a245b9fdd4ae1d25812bc6f0"
 },
 "nbformat": 3,
 "nbformat_minor": 0,
 "worksheets": [
  {
   "cells": [
    {
     "cell_type": "code",
     "collapsed": false,
     "input": [
      "import os\n",
      "import time\n",
      "import itertools\n",
      "import collections\n",
      "import matplotlib.pyplot as plt\n",
      "import numpy as np\n",
      "import pandas as pd\n",
      "import importlib\n",
      "\n",
      "import aerutils\n",
      "import aeranalyse\n",
      "import plotting\n",
      "\n",
      "importlib.reload(aerutils)\n",
      "importlib.reload(aeranalyse)"
     ],
     "language": "python",
     "metadata": {},
     "outputs": []
    },
    {
     "cell_type": "markdown",
     "metadata": {},
     "source": [
      "# Insertion of extra levels and layers"
     ]
    },
    {
     "cell_type": "code",
     "collapsed": false,
     "input": [
      "def insert_avgs(x, n = 0):\n",
      "    if not x.shape[0] >= 2:\n",
      "        raise ValueError('Inserting averages requires an array with at least 2 rows')\n",
      "    if n == 0:\n",
      "        return x\n",
      "    elif n == 1:\n",
      "        return np.insert(x, obj = range(1, x.shape[0]), values = .5 * (x[:-1] + x[1:]))\n",
      "    else:\n",
      "        return insert_avgs(insert_avgs(x, n - 1), 1)"
     ],
     "language": "python",
     "metadata": {},
     "outputs": []
    },
    {
     "cell_type": "code",
     "collapsed": false,
     "input": [
      "#graphical demonstration of insert_avgs()\n",
      "x = np.arange(15.)\n",
      "insrtds = [insert_avgs(x, n) for n in range(5)]\n",
      "plotdata = [(n * np.ones(insrtd.shape[0]), insrtd, 'o') for n, insrtd in zip(range(5), insrtds)]\n",
      "plotdata = [y for x in plotdata for y in x]\n",
      "\n",
      "fig = plt.figure(figsize = (10, 12))\n",
      "ax = fig.add_subplot(111)\n",
      "ax.plot(*plotdata)\n",
      "ax.set_xlim([-.5, 4.5])\n",
      "ax.set_xlabel(\"number of average insertions\")\n",
      "ax.set_ylabel('values')\n",
      "plt.grid(b = True)\n"
     ],
     "language": "python",
     "metadata": {},
     "outputs": []
    },
    {
     "cell_type": "code",
     "collapsed": false,
     "input": [
      "atmpro = aerutils.atmpro_PROfile_to_pandasDataFrames(\n",
      "readfrom='/nuwa_cluster/home/jackyu/line_by_line/lbl/mls70.pro')\n",
      "plevel = atmpro['plevel'].values\n",
      "xlayers = [atmpro[column].values[1:] for column in atmpro.columns if column != 'plevel']"
     ],
     "language": "python",
     "metadata": {},
     "outputs": []
    },
    {
     "cell_type": "code",
     "collapsed": false,
     "input": [
      "# plot original atmosphere profiles\n",
      "player = .5 * (plevel[1:] + plevel[:-1]) \n",
      "\n",
      "fig = plt.figure(figsize=(15,13))\n",
      "    \n",
      "ax = fig.add_subplot(1, 3, 1)\n",
      "ax.semilogy(xlayers[0], player, '.')\n",
      "plt.gca().invert_yaxis()\n",
      "plt.grid(b = True)\n",
      "ax.set_xlabel('temperature [K]')\n",
      "ax.set_ylabel('pressure [mb]')\n",
      "    \n",
      "ax = fig.add_subplot(1, 3, 2)\n",
      "ax.semilogy(xlayers[1] * 1e3, player, '.')\n",
      "plt.gca().invert_yaxis()\n",
      "plt.grid(b = True)\n",
      "ax.set_xlim([-.5, 12])\n",
      "ax.set_xlabel('$H_{2}O$ conc. $10^{-3}$ [g/g]')\n",
      "ax.set_ylabel('pressure [mb]')\n",
      "\n",
      "ax = fig.add_subplot(1, 3, 3)\n",
      "ax.semilogy(xlayers[2] * 1e6, player, '.')\n",
      "plt.gca().invert_yaxis()\n",
      "plt.grid(b = True)\n",
      "ax.set_xlabel('$O_{3}$ conc. $10^{-6}$ [g/g]')\n",
      "ax.set_ylabel('pressure [mb]')\n",
      "\n",
      "plt.savefig('/nuwa_cluster/home/jackyu/line_by_line/lbl/runs/lbl_H2008_CO2_cut25/figs_cooling_rate/mls70pro.pdf')"
     ],
     "language": "python",
     "metadata": {},
     "outputs": []
    },
    {
     "cell_type": "code",
     "collapsed": false,
     "input": [
      "#a = aerutils.insert_levels_and_layers(plevel, xlayerss= xlayers, between_levels=(9, 12), n = 2)\n",
      "#pjlevel, xjlayers = a[0], a[1:]\n",
      "a = aerutils.atmpro_insert_levels_and_layers(atmpro, between_pressures=(0.02, .3), n = 1)\n",
      "aerutils.atmpro_pandasDataFrames_to_PROfile(a, saveas = 'test.pro')\n",
      "a = aerutils.atmpro_PROfile_to_pandasDataFrames(readfrom='test.pro')\n",
      "pjlevel = a['plevel'].values\n",
      "xjlayers = [a[column].values[1:] for column in a.columns if column != 'plevel']"
     ],
     "language": "python",
     "metadata": {},
     "outputs": []
    },
    {
     "cell_type": "code",
     "collapsed": false,
     "input": [
      "# plot atmosphere profiles with extra levels and layers inserted\n",
      "pjlayer = .5 * (pjlevel[1:] + pjlevel[:-1]) \n",
      "\n",
      "fig = plt.figure(figsize=(15,13))\n",
      "    \n",
      "ax = fig.add_subplot(1, 3, 1)\n",
      "ax.semilogy(xjlayers[0], pjlayer, '.')\n",
      "plt.gca().invert_yaxis()\n",
      "plt.grid(b = True)\n",
      "ax.set_xlabel('temperature [K]')\n",
      "ax.set_ylabel('pressure [mb]')\n",
      "    \n",
      "ax = fig.add_subplot(1, 3, 2)\n",
      "ax.semilogy(xjlayers[1] * 1e3, pjlayer, '.')\n",
      "plt.gca().invert_yaxis()\n",
      "plt.grid(b = True)\n",
      "ax.set_xlabel('$H_{2}O$ conc. $10^{-3}$ [g/g]')\n",
      "ax.set_ylabel('pressure [mb]')\n",
      "ax.set_xlim([-.5, 12])\n",
      "\n",
      "ax = fig.add_subplot(1, 3, 3)\n",
      "ax.semilogy(xjlayers[2] * 1e6, pjlayer, '.')\n",
      "plt.gca().invert_yaxis()\n",
      "plt.grid(b = True)\n",
      "ax.set_xlabel('$O_{3}$ conc. $10^{-6}$ [g/g]')\n",
      "ax.set_ylabel('pressure [mb]')\n",
      "\n",
      "plt.savefig('/nuwa_cluster/home/jackyu/line_by_line/lbl/runs/\\\n",
      "lbl_H2008_CO2_cut25/figs_cooling_rate/mls70pro_extralevs_0.02_0.3.pdf')"
     ],
     "language": "python",
     "metadata": {},
     "outputs": []
    }
   ],
   "metadata": {}
  }
 ]
}
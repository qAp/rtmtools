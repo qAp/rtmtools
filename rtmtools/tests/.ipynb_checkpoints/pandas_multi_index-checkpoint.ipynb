{
 "metadata": {
  "name": "",
  "signature": "sha256:02d1efb6158c8fc520620b31882f69b45a9e6fc5f04733062c3a552d093034f8"
 },
 "nbformat": 3,
 "nbformat_minor": 0,
 "worksheets": [
  {
   "cells": [
    {
     "cell_type": "code",
     "collapsed": false,
     "input": [
      "import itertools\n",
      "import numpy as np\n",
      "import pandas as pd"
     ],
     "language": "python",
     "metadata": {},
     "outputs": [],
     "prompt_number": 10
    },
    {
     "cell_type": "code",
     "collapsed": false,
     "input": [
      "pd.MultiIndex?"
     ],
     "language": "python",
     "metadata": {},
     "outputs": [],
     "prompt_number": 2
    },
    {
     "cell_type": "code",
     "collapsed": false,
     "input": [
      "np.random.arange(24)."
     ],
     "language": "python",
     "metadata": {},
     "outputs": [
      {
       "metadata": {},
       "output_type": "pyout",
       "prompt_number": 3,
       "text": [
        "array([[  5.44341396e-01,   1.97223979e-01,  -1.50073101e+00,\n",
        "         -7.65362757e-01,   1.88577232e-01,  -6.69562476e-02],\n",
        "       [  3.76665978e-01,   6.79930211e-01,  -6.41006818e-01,\n",
        "          1.38178321e+00,   1.98572638e+00,   8.17937231e-01],\n",
        "       [ -8.30226647e-04,  -8.14405599e-01,   1.19743075e+00,\n",
        "         -4.75222859e-01,  -5.71033482e-01,  -5.10014982e-01],\n",
        "       [  7.36106367e-01,   2.96272869e-02,  -2.11351515e-01,\n",
        "          7.00579216e-01,   1.58931083e+00,  -1.06332668e+00]])"
       ]
      }
     ],
     "prompt_number": 3
    },
    {
     "cell_type": "code",
     "collapsed": false,
     "input": [
      "df = pd.DataFrame(np.arange(24).reshape(4, 6))\n",
      "df.index = pd.MultiIndex(levels = [['high', 'low'], [2, 1]], \n",
      "                      names = ['band', 'level'],\n",
      "                      labels = [[0, 0, 1, 1], [0, 1, 0, 1]])\n",
      "df.columns = pd.MultiIndex(levels = [['A', 'B'], ['a', 'b', 'c']],\n",
      "                           names = ['model', 'variable'],\n",
      "                           labels = [[0, 0, 0, 1, 1, 1], [0, 1, 2, 0, 1, 2]])"
     ],
     "language": "python",
     "metadata": {},
     "outputs": [],
     "prompt_number": 35
    },
    {
     "cell_type": "code",
     "collapsed": false,
     "input": [
      "df"
     ],
     "language": "python",
     "metadata": {},
     "outputs": [
      {
       "html": [
        "<div style=\"max-height:1000px;max-width:1500px;overflow:auto;\">\n",
        "<table border=\"1\" class=\"dataframe\">\n",
        "  <thead>\n",
        "    <tr>\n",
        "      <th></th>\n",
        "      <th>model</th>\n",
        "      <th colspan=\"3\" halign=\"left\">A</th>\n",
        "      <th colspan=\"3\" halign=\"left\">B</th>\n",
        "    </tr>\n",
        "    <tr>\n",
        "      <th></th>\n",
        "      <th>variable</th>\n",
        "      <th>a</th>\n",
        "      <th>b</th>\n",
        "      <th>c</th>\n",
        "      <th>a</th>\n",
        "      <th>b</th>\n",
        "      <th>c</th>\n",
        "    </tr>\n",
        "    <tr>\n",
        "      <th>band</th>\n",
        "      <th>level</th>\n",
        "      <th></th>\n",
        "      <th></th>\n",
        "      <th></th>\n",
        "      <th></th>\n",
        "      <th></th>\n",
        "      <th></th>\n",
        "    </tr>\n",
        "  </thead>\n",
        "  <tbody>\n",
        "    <tr>\n",
        "      <th rowspan=\"2\" valign=\"top\">high</th>\n",
        "      <th>2</th>\n",
        "      <td>  0</td>\n",
        "      <td>  1</td>\n",
        "      <td>  2</td>\n",
        "      <td>  3</td>\n",
        "      <td>  4</td>\n",
        "      <td>  5</td>\n",
        "    </tr>\n",
        "    <tr>\n",
        "      <th>1</th>\n",
        "      <td>  6</td>\n",
        "      <td>  7</td>\n",
        "      <td>  8</td>\n",
        "      <td>  9</td>\n",
        "      <td> 10</td>\n",
        "      <td> 11</td>\n",
        "    </tr>\n",
        "    <tr>\n",
        "      <th rowspan=\"2\" valign=\"top\">low</th>\n",
        "      <th>2</th>\n",
        "      <td> 12</td>\n",
        "      <td> 13</td>\n",
        "      <td> 14</td>\n",
        "      <td> 15</td>\n",
        "      <td> 16</td>\n",
        "      <td> 17</td>\n",
        "    </tr>\n",
        "    <tr>\n",
        "      <th>1</th>\n",
        "      <td> 18</td>\n",
        "      <td> 19</td>\n",
        "      <td> 20</td>\n",
        "      <td> 21</td>\n",
        "      <td> 22</td>\n",
        "      <td> 23</td>\n",
        "    </tr>\n",
        "  </tbody>\n",
        "</table>\n",
        "</div>"
       ],
       "metadata": {},
       "output_type": "pyout",
       "prompt_number": 36,
       "text": [
        "model        A           B        \n",
        "variable     a   b   c   a   b   c\n",
        "band level                        \n",
        "high 2       0   1   2   3   4   5\n",
        "     1       6   7   8   9  10  11\n",
        "low  2      12  13  14  15  16  17\n",
        "     1      18  19  20  21  22  23"
       ]
      }
     ],
     "prompt_number": 36
    },
    {
     "cell_type": "code",
     "collapsed": false,
     "input": [
      "with pd.ExcelWriter('test.xlsx') as writer:\n",
      "    df.to_excel(writer, sheet_name = 'table')"
     ],
     "language": "python",
     "metadata": {},
     "outputs": [],
     "prompt_number": 38
    },
    {
     "cell_type": "code",
     "collapsed": false,
     "input": [
      "dfl = pd.read_excel('test.xlsx', sheet_name = 'table')"
     ],
     "language": "python",
     "metadata": {},
     "outputs": [],
     "prompt_number": 39
    },
    {
     "cell_type": "code",
     "collapsed": false,
     "input": [
      "dfl"
     ],
     "language": "python",
     "metadata": {},
     "outputs": [
      {
       "html": [
        "<div style=\"max-height:1000px;max-width:1500px;overflow:auto;\">\n",
        "<table border=\"1\" class=\"dataframe\">\n",
        "  <thead>\n",
        "    <tr style=\"text-align: right;\">\n",
        "      <th></th>\n",
        "      <th>model</th>\n",
        "      <th>A</th>\n",
        "      <th>Unnamed: 2</th>\n",
        "      <th>Unnamed: 3</th>\n",
        "      <th>B</th>\n",
        "      <th>Unnamed: 5</th>\n",
        "      <th>Unnamed: 6</th>\n",
        "    </tr>\n",
        "  </thead>\n",
        "  <tbody>\n",
        "    <tr>\n",
        "      <th>NaN</th>\n",
        "      <td> variable</td>\n",
        "      <td>   a</td>\n",
        "      <td>   b</td>\n",
        "      <td>   c</td>\n",
        "      <td>   a</td>\n",
        "      <td>   b</td>\n",
        "      <td>   c</td>\n",
        "    </tr>\n",
        "    <tr>\n",
        "      <th>band</th>\n",
        "      <td>    level</td>\n",
        "      <td> NaN</td>\n",
        "      <td> NaN</td>\n",
        "      <td> NaN</td>\n",
        "      <td> NaN</td>\n",
        "      <td> NaN</td>\n",
        "      <td> NaN</td>\n",
        "    </tr>\n",
        "    <tr>\n",
        "      <th>high</th>\n",
        "      <td>        2</td>\n",
        "      <td>   0</td>\n",
        "      <td>   1</td>\n",
        "      <td>   2</td>\n",
        "      <td>   3</td>\n",
        "      <td>   4</td>\n",
        "      <td>   5</td>\n",
        "    </tr>\n",
        "    <tr>\n",
        "      <th>NaN</th>\n",
        "      <td>        1</td>\n",
        "      <td>   6</td>\n",
        "      <td>   7</td>\n",
        "      <td>   8</td>\n",
        "      <td>   9</td>\n",
        "      <td>  10</td>\n",
        "      <td>  11</td>\n",
        "    </tr>\n",
        "    <tr>\n",
        "      <th>low</th>\n",
        "      <td>        2</td>\n",
        "      <td>  12</td>\n",
        "      <td>  13</td>\n",
        "      <td>  14</td>\n",
        "      <td>  15</td>\n",
        "      <td>  16</td>\n",
        "      <td>  17</td>\n",
        "    </tr>\n",
        "    <tr>\n",
        "      <th>NaN</th>\n",
        "      <td>        1</td>\n",
        "      <td>  18</td>\n",
        "      <td>  19</td>\n",
        "      <td>  20</td>\n",
        "      <td>  21</td>\n",
        "      <td>  22</td>\n",
        "      <td>  23</td>\n",
        "    </tr>\n",
        "  </tbody>\n",
        "</table>\n",
        "</div>"
       ],
       "metadata": {},
       "output_type": "pyout",
       "prompt_number": 40,
       "text": [
        "         model    A Unnamed: 2 Unnamed: 3    B Unnamed: 5 Unnamed: 6\n",
        "NaN   variable    a          b          c    a          b          c\n",
        "band     level  NaN        NaN        NaN  NaN        NaN        NaN\n",
        "high         2    0          1          2    3          4          5\n",
        "NaN          1    6          7          8    9         10         11\n",
        "low          2   12         13         14   15         16         17\n",
        "NaN          1   18         19         20   21         22         23"
       ]
      }
     ],
     "prompt_number": 40
    },
    {
     "cell_type": "code",
     "collapsed": false,
     "input": [],
     "language": "python",
     "metadata": {},
     "outputs": []
    }
   ],
   "metadata": {}
  }
 ]
}